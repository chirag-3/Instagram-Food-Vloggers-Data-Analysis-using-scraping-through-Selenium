{
 "cells": [
  {
   "cell_type": "code",
   "execution_count": 19,
   "id": "fed15496",
   "metadata": {},
   "outputs": [],
   "source": [
    "from bs4 import BeautifulSoup\n",
    "from selenium.webdriver.chrome.service import Service\n",
    "from selenium import webdriver\n",
    "from selenium.webdriver.common.by import By \n",
    "from selenium.webdriver.support.ui import WebDriverWait\n",
    "from selenium.webdriver.support import expected_conditions as EC\n",
    "import time\n",
    "import traceback\n",
    "import logging"
   ]
  },
  {
   "cell_type": "code",
   "execution_count": 3,
   "id": "4a26b87f",
   "metadata": {},
   "outputs": [],
   "source": [
    "service = Service(executable_path=r\"C:\\Users\\chira\\Coding ninjas Data Science\\BeautiFul Soup\\Selenium\\chrome driver\\chromedriver_win32\\chromedriver.exe\")\n",
    "driver = webdriver.Chrome(service = service)"
   ]
  },
  {
   "cell_type": "code",
   "execution_count": 4,
   "id": "973c68f5",
   "metadata": {},
   "outputs": [],
   "source": [
    "wait = WebDriverWait(driver,10)"
   ]
  },
  {
   "cell_type": "markdown",
   "id": "64868a18",
   "metadata": {},
   "source": [
    "## function to go to a url"
   ]
  },
  {
   "cell_type": "code",
   "execution_count": 5,
   "id": "75fa23fd",
   "metadata": {},
   "outputs": [],
   "source": [
    "def visit_url(driver_,url):\n",
    "    driver_.get(url)"
   ]
  },
  {
   "cell_type": "markdown",
   "id": "d22e7af9",
   "metadata": {},
   "source": [
    "## Function to login to Instagram\n"
   ]
  },
  {
   "cell_type": "code",
   "execution_count": 6,
   "id": "0e229280",
   "metadata": {},
   "outputs": [],
   "source": [
    "def insta_login(driver,uname,passw):\n",
    "    \n",
    "    driver.get('https://www.instagram.com')\n",
    "    try:\n",
    "        name_field = wait.until(EC.presence_of_element_located((By.NAME,\"username\")))\n",
    "        pass_field = wait.until(EC.presence_of_element_located((By.NAME,\"password\")))\n",
    "        name_field.send_keys(uname)\n",
    "        pass_field.send_keys(passw)\n",
    "        pass_field.submit()\n",
    "    except:\n",
    "        print(\"Username or password field not found\")\n",
    "    \n",
    "    \n",
    "    "
   ]
  },
  {
   "cell_type": "code",
   "execution_count": 7,
   "id": "af0f74b2",
   "metadata": {},
   "outputs": [],
   "source": [
    "visit_url(driver,'https://www.instagram.com')\n",
    "insta_login(driver,'trunksgeta','godtrunks')"
   ]
  },
  {
   "cell_type": "markdown",
   "id": "8d4b8ffb",
   "metadata": {},
   "source": [
    "# Searching \"food\" and finding Top 5 handles with most followers out of top 10 handles in search result. Finding Number of posts in past three days by those 5 handles, and plotting this data."
   ]
  },
  {
   "cell_type": "markdown",
   "id": "effd78f1",
   "metadata": {},
   "source": [
    "### Function to search a word and return the top n handles, present in search result"
   ]
  },
  {
   "cell_type": "code",
   "execution_count": 29,
   "id": "51880d57",
   "metadata": {},
   "outputs": [],
   "source": [
    "def search_and_return(word,n,driver):\n",
    "    \n",
    "    driver.refresh()\n",
    "    time.sleep(5)\n",
    "    home = driver.find_element(By.CLASS_NAME,'_aacp')\n",
    "    home.click()\n",
    "    handles = []\n",
    "    try:\n",
    "        side_buttons = wait.until(EC.presence_of_all_elements_located((By.CLASS_NAME,'_aacp')))\n",
    "        search_button = side_buttons[1]\n",
    "        search_button.click()\n",
    "        \n",
    "        try:\n",
    "            search_box = wait.until(EC.presence_of_element_located((By.CLASS_NAME,'_aauy')))\n",
    "            search_box.send_keys(word)\n",
    "            \n",
    "            time.sleep(5)\n",
    "            \n",
    "            try:\n",
    "                results = wait.until(EC.presence_of_all_elements_located((By.XPATH,'//div[@class=\"_abm4\"]//div[contains(@class,\"_aad6\") and contains(@class,\"_aaco\")]'))) \n",
    "                i = 0\n",
    "                for r in results:\n",
    "                    if r.text == '':\n",
    "                        continue\n",
    "                    if r.text[0] == '#':\n",
    "                        continue\n",
    "                    i += 1\n",
    "                    handles.append(r.text)\n",
    "                    if i==n :\n",
    "                        break\n",
    "                return handles\n",
    "            except Exception as e:\n",
    "                logging.error(traceback.format_exc())      \n",
    "        except Exception as e:\n",
    "            logging.error(traceback.format_exc())\n",
    "    except Exception as e:\n",
    "        logging.error(traceback.format_exc())\n",
    "    \n",
    "    \n",
    "    "
   ]
  },
  {
   "cell_type": "markdown",
   "id": "e2b25333",
   "metadata": {},
   "source": [
    "## Finding the Top 10 Handles when 'food' is searched"
   ]
  },
  {
   "cell_type": "code",
   "execution_count": 33,
   "id": "587c88fd",
   "metadata": {},
   "outputs": [],
   "source": [
    "search_results = search_and_return('food',10,driver)"
   ]
  },
  {
   "cell_type": "code",
   "execution_count": 35,
   "id": "fd0a66e0",
   "metadata": {},
   "outputs": [
    {
     "name": "stdout",
     "output_type": "stream",
     "text": [
      "1 ----> delhifoodie\n",
      "2 ----> delhifoodguide\n",
      "3 ----> food_first_always\n",
      "4 ----> foodieveggie\n",
      "5 ----> food\n",
      "6 ----> food_and_makeup_lover\n",
      "7 ----> foodtalkindia\n",
      "8 ----> punjabi_food_factory\n",
      "9 ----> foodzeee\n",
      "10 ----> foodkars\n"
     ]
    }
   ],
   "source": [
    "for i in range(len(search_results)):\n",
    "    print(i + 1,\"---->\",search_results[i])"
   ]
  },
  {
   "cell_type": "markdown",
   "id": "7bff6977",
   "metadata": {},
   "source": [
    "## Function to go to profile page of a particular handle"
   ]
  },
  {
   "cell_type": "code",
   "execution_count": null,
   "id": "2ed3050d",
   "metadata": {},
   "outputs": [],
   "source": []
  }
 ],
 "metadata": {
  "kernelspec": {
   "display_name": "Python 3 (ipykernel)",
   "language": "python",
   "name": "python3"
  },
  "language_info": {
   "codemirror_mode": {
    "name": "ipython",
    "version": 3
   },
   "file_extension": ".py",
   "mimetype": "text/x-python",
   "name": "python",
   "nbconvert_exporter": "python",
   "pygments_lexer": "ipython3",
   "version": "3.9.7"
  }
 },
 "nbformat": 4,
 "nbformat_minor": 5
}

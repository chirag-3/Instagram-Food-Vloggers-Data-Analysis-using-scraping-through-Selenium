{
 "cells": [
  {
   "cell_type": "code",
   "execution_count": 56,
   "id": "fed15496",
   "metadata": {},
   "outputs": [],
   "source": [
    "from bs4 import BeautifulSoup\n",
    "from selenium.webdriver.chrome.service import Service\n",
    "from selenium import webdriver\n",
    "from selenium.webdriver.common.by import By \n",
    "from selenium.webdriver.support.ui import WebDriverWait\n",
    "from selenium.webdriver.support import expected_conditions as EC\n",
    "import time\n",
    "import traceback\n",
    "import logging\n",
    "from datetime import date\n",
    "from datetime import datetime\n",
    "import matplotlib.pyplot as plt\n",
    "import numpy as np"
   ]
  },
  {
   "cell_type": "code",
   "execution_count": 2,
   "id": "4a26b87f",
   "metadata": {},
   "outputs": [],
   "source": [
    "service = Service(executable_path=r\"C:\\Users\\chira\\Coding ninjas Data Science\\BeautiFul Soup\\Selenium\\chrome driver\\chromedriver_win32\\chromedriver.exe\")\n",
    "driver = webdriver.Chrome(service = service)"
   ]
  },
  {
   "cell_type": "code",
   "execution_count": 3,
   "id": "69345120",
   "metadata": {},
   "outputs": [],
   "source": [
    "wait = WebDriverWait(driver,10)"
   ]
  },
  {
   "cell_type": "markdown",
   "id": "64868a18",
   "metadata": {},
   "source": [
    "## function to go to a url"
   ]
  },
  {
   "cell_type": "code",
   "execution_count": 4,
   "id": "75fa23fd",
   "metadata": {},
   "outputs": [],
   "source": [
    "def visit_url(driver_,url):\n",
    "    driver_.get(url)"
   ]
  },
  {
   "cell_type": "markdown",
   "id": "d22e7af9",
   "metadata": {},
   "source": [
    "## Function to login to Instagram\n"
   ]
  },
  {
   "cell_type": "code",
   "execution_count": 5,
   "id": "0e229280",
   "metadata": {},
   "outputs": [],
   "source": [
    "def insta_login(driver,uname,passw):\n",
    "    \n",
    "    driver.get('https://www.instagram.com')\n",
    "    try:\n",
    "        name_field = wait.until(EC.presence_of_element_located((By.NAME,\"username\")))\n",
    "        pass_field = wait.until(EC.presence_of_element_located((By.NAME,\"password\")))\n",
    "        name_field.send_keys(uname)\n",
    "        pass_field.send_keys(passw)\n",
    "        pass_field.submit()\n",
    "    except Exception as e:\n",
    "        logging.error(traceback.format_exc())\n",
    "    \n",
    "    \n",
    "    "
   ]
  },
  {
   "cell_type": "code",
   "execution_count": 6,
   "id": "af0f74b2",
   "metadata": {},
   "outputs": [],
   "source": [
    "# visit_url(driver,'https://www.instagram.com')\n",
    "# time.sleep(5)\n",
    "insta_login(driver,'trunksgeta','godtrunks')"
   ]
  },
  {
   "cell_type": "markdown",
   "id": "8d4b8ffb",
   "metadata": {},
   "source": [
    "# Searching \"food\" and finding Top 5 handles with most followers out of top 10 handles in search result. Finding Number of posts in past three days by those 5 handles, and plotting this data."
   ]
  },
  {
   "cell_type": "markdown",
   "id": "effd78f1",
   "metadata": {},
   "source": [
    "### Function to search a word and return the top n handles, present in search result"
   ]
  },
  {
   "cell_type": "code",
   "execution_count": 7,
   "id": "51880d57",
   "metadata": {},
   "outputs": [],
   "source": [
    "def search_and_return(word,n,driver):\n",
    "    \n",
    "    driver.refresh()\n",
    "    time.sleep(5)\n",
    "    home = driver.find_element(By.CLASS_NAME,'_aacp')\n",
    "    home.click()\n",
    "    handles = []\n",
    "    try:\n",
    "        side_buttons = wait.until(EC.presence_of_all_elements_located((By.CLASS_NAME,'_aacp')))\n",
    "        search_button = side_buttons[1]\n",
    "        search_button.click()\n",
    "        \n",
    "        try:\n",
    "            search_box = wait.until(EC.presence_of_element_located((By.CLASS_NAME,'_aauy')))\n",
    "            search_box.send_keys(word)\n",
    "            \n",
    "            time.sleep(5)\n",
    "            \n",
    "            try:\n",
    "                results = wait.until(EC.presence_of_all_elements_located((By.XPATH,'//div[@class=\"_abm4\"]//div[contains(@class,\"_aad6\") and contains(@class,\"_aaco\")]'))) \n",
    "                i = 0\n",
    "                for r in results:\n",
    "                    if r.text == '':\n",
    "                        continue\n",
    "                    if r.text[0] == '#':\n",
    "                        continue\n",
    "                    i += 1\n",
    "                    handles.append(r.text)\n",
    "                    if i==n :\n",
    "                        break\n",
    "                return handles\n",
    "            except Exception as e:\n",
    "                logging.error(traceback.format_exc())      \n",
    "        except Exception as e:\n",
    "            logging.error(traceback.format_exc())\n",
    "    except Exception as e:\n",
    "        logging.error(traceback.format_exc())\n",
    "    \n",
    "    \n",
    "    "
   ]
  },
  {
   "cell_type": "markdown",
   "id": "a224ccc9",
   "metadata": {},
   "source": [
    "## Finding the Top 10 Handles when 'food' is searched"
   ]
  },
  {
   "cell_type": "code",
   "execution_count": 10,
   "id": "587c88fd",
   "metadata": {},
   "outputs": [],
   "source": [
    "search_results = search_and_return('food',10,driver)"
   ]
  },
  {
   "cell_type": "code",
   "execution_count": 11,
   "id": "fd0a66e0",
   "metadata": {},
   "outputs": [
    {
     "name": "stdout",
     "output_type": "stream",
     "text": [
      "1 ----> foodiesdelhite\n",
      "2 ----> foodisnirvana\n",
      "3 ----> foodpandits\n",
      "4 ----> foodieveggie\n",
      "5 ----> foodbellydelites\n",
      "6 ----> food_and_makeup_lover\n",
      "7 ----> food\n",
      "8 ----> foodtalkindia\n",
      "9 ----> punjabi_food_factory\n",
      "10 ----> thefoodsquare_guna\n"
     ]
    }
   ],
   "source": [
    "for i in range(len(search_results)):\n",
    "    print(i + 1,\"---->\",search_results[i])"
   ]
  },
  {
   "cell_type": "markdown",
   "id": "dcd156a6",
   "metadata": {},
   "source": [
    "## Function to go to profile page of a particular handle"
   ]
  },
  {
   "cell_type": "code",
   "execution_count": 12,
   "id": "e66b29fa",
   "metadata": {},
   "outputs": [],
   "source": [
    "def go_to_profile(handle,driver):\n",
    "    \n",
    "    driver.refresh()\n",
    "    time.sleep(5)\n",
    "    home = driver.find_element(By.CLASS_NAME,'_aacp')\n",
    "    home.click()\n",
    "    time.sleep(5)\n",
    "    try:\n",
    "        side_buttons = wait.until(EC.presence_of_all_elements_located((By.CLASS_NAME,'_aacp')))\n",
    "        search_button = side_buttons[1]\n",
    "        search_button.click()\n",
    "        \n",
    "        try:\n",
    "            search_box = wait.until(EC.presence_of_element_located((By.CLASS_NAME,'_aauy')))\n",
    "            search_box.send_keys(handle)\n",
    "            \n",
    "#             time.sleep(10)\n",
    "            \n",
    "            try:\n",
    "                results = wait.until(EC.presence_of_all_elements_located((By.XPATH,'//div[@class=\"_abm4\"]//div[contains(@class,\"_aad6\") and contains(@class,\"_aaco\")]'))) \n",
    "                found = False\n",
    "                for r in results:\n",
    "                    if r.text == '':\n",
    "                        continue\n",
    "                    if r.text[0] == '#':\n",
    "                        continue\n",
    "                    if r.text == handle:\n",
    "                        found = True\n",
    "                        print(\"Handle found, going to profile page\")\n",
    "                        r.click()\n",
    "                        break\n",
    "                    \n",
    "                if found == False:\n",
    "                    print(\"Required Handle not found\")\n",
    "            except Exception as e:\n",
    "                logging.error(traceback.format_exc())      \n",
    "        except Exception as e:\n",
    "            logging.error(traceback.format_exc())\n",
    "    except Exception as e:\n",
    "        logging.error(traceback.format_exc())\n",
    "    \n",
    "    \n",
    "    \n",
    "    "
   ]
  },
  {
   "cell_type": "markdown",
   "id": "813e24e4",
   "metadata": {},
   "source": [
    "### Function to remove all occurences of a character from a word"
   ]
  },
  {
   "cell_type": "code",
   "execution_count": 13,
   "id": "71fcdece",
   "metadata": {},
   "outputs": [],
   "source": [
    "def removechar(word, ch): #removes character ch from word\n",
    "    i = 0\n",
    "    while(i < len(word)):\n",
    "     \n",
    "        if(word[i] == ch):\n",
    "            word = word[:i] + word[i+1:]\n",
    "            i -= 1\n",
    "        i += 1\n",
    "    return word"
   ]
  },
  {
   "cell_type": "markdown",
   "id": "bca57741",
   "metadata": {},
   "source": [
    "### Function to get number of Followers and Following"
   ]
  },
  {
   "cell_type": "code",
   "execution_count": 15,
   "id": "31392f97",
   "metadata": {},
   "outputs": [],
   "source": [
    "def get_count_ff(driver): #Find the number of followers and following from profile page on which user is currently on\n",
    "    \n",
    "    pfF = driver.find_elements(By.CLASS_NAME,\"_ac2a\")\n",
    "    if len(pfF)<3 :\n",
    "        return 0,0\n",
    "    \n",
    "    p = pfF[0].text\n",
    "    f = pfF[1].text\n",
    "    F = pfF[2].text\n",
    "    \n",
    "#     print(f)\n",
    "#     print(F)\n",
    "    f = removechar(f,',')\n",
    "    F = removechar(F,',')\n",
    "#     print(\"___________________\")\n",
    "#     print(f)\n",
    "#     print(F)\n",
    "    \n",
    "    if f[-1] == 'K':\n",
    "        f = float(f[0:-1:1])\n",
    "        f = f*1000\n",
    "    elif f[-1] == 'M':\n",
    "        f = float(f[0:-1:1])\n",
    "        f = f*1000000\n",
    "    else:\n",
    "        f = int(f)\n",
    "    \n",
    "    if F[-1] == 'K':\n",
    "        F = float(F[0:-1:1])\n",
    "        F = F*1000\n",
    "    elif F[-1] == 'M':\n",
    "        F = float(F[0:-1:1])\n",
    "        F = F*1000000\n",
    "    else:\n",
    "        F = float(F)\n",
    "    \n",
    "    return f,F\n",
    "    \n",
    "    "
   ]
  },
  {
   "cell_type": "code",
   "execution_count": 16,
   "id": "19eab764",
   "metadata": {},
   "outputs": [
    {
     "name": "stdout",
     "output_type": "stream",
     "text": [
      " trying for going to profile of  foodiesdelhite\n",
      "Handle found, going to profile page\n",
      "foodiesdelhite  has  23400.0  followers. \n",
      " trying for going to profile of  foodisnirvana\n",
      "Handle found, going to profile page\n",
      "foodisnirvana  has  20200.0  followers. \n",
      " trying for going to profile of  foodpandits\n",
      "Handle found, going to profile page\n",
      "foodpandits  has  183000.0  followers. \n",
      " trying for going to profile of  foodieveggie\n",
      "Handle found, going to profile page\n",
      "foodieveggie  has  6745  followers. \n",
      " trying for going to profile of  foodbellydelites\n",
      "Handle found, going to profile page\n",
      "foodbellydelites  has  7176  followers. \n",
      " trying for going to profile of  food_and_makeup_lover\n",
      "Handle found, going to profile page\n",
      "food_and_makeup_lover  has  13600.0  followers. \n",
      " trying for going to profile of  food\n",
      "Handle found, going to profile page\n",
      "food  has  182000.0  followers. \n",
      " trying for going to profile of  foodtalkindia\n",
      "Handle found, going to profile page\n",
      "foodtalkindia  has  0  followers. \n",
      " trying for going to profile of  punjabi_food_factory\n",
      "Handle found, going to profile page\n",
      "punjabi_food_factory  has  2572  followers. \n",
      " trying for going to profile of  thefoodsquare_guna\n",
      "Handle found, going to profile page\n",
      "thefoodsquare_guna  has  1746  followers. \n"
     ]
    }
   ],
   "source": [
    "followers = []\n",
    "for i in range(0,len(search_results)):\n",
    "    print(\" trying for going to profile of \",search_results[i])\n",
    "    go_to_profile(search_results[i],driver) #go to profile page\n",
    "    time.sleep(5) #wait for page to load\n",
    "    f,F = get_count_ff(driver) # find number of followers and following\n",
    "    followers.append((search_results[i],f)) # appending account name and number of followers in as a tuple in a list\n",
    "    print(search_results[i],\" has \",f,\" followers. \")"
   ]
  },
  {
   "cell_type": "code",
   "execution_count": 17,
   "id": "3d87006c",
   "metadata": {},
   "outputs": [
    {
     "name": "stdout",
     "output_type": "stream",
     "text": [
      "foodiesdelhite 23400.0\n",
      "foodisnirvana 20200.0\n",
      "foodpandits 183000.0\n",
      "foodieveggie 6745\n",
      "foodbellydelites 7176\n",
      "food_and_makeup_lover 13600.0\n",
      "food 182000.0\n",
      "foodtalkindia 0\n",
      "punjabi_food_factory 2572\n",
      "thefoodsquare_guna 1746\n"
     ]
    }
   ],
   "source": [
    "for i,j in followers:\n",
    "    print(i,j)"
   ]
  },
  {
   "cell_type": "code",
   "execution_count": 18,
   "id": "dfaf3190",
   "metadata": {},
   "outputs": [],
   "source": [
    "followers.sort(key = lambda x:x[1],reverse = True) #Sorting the list made by number of followers in decreasing order"
   ]
  },
  {
   "cell_type": "code",
   "execution_count": 19,
   "id": "f85350f0",
   "metadata": {},
   "outputs": [
    {
     "name": "stdout",
     "output_type": "stream",
     "text": [
      "foodpandits 183000.0\n",
      "food 182000.0\n",
      "foodiesdelhite 23400.0\n",
      "foodisnirvana 20200.0\n",
      "food_and_makeup_lover 13600.0\n",
      "foodbellydelites 7176\n",
      "foodieveggie 6745\n",
      "punjabi_food_factory 2572\n",
      "thefoodsquare_guna 1746\n",
      "foodtalkindia 0\n"
     ]
    }
   ],
   "source": [
    "for i,j in followers:\n",
    "    print(i,j)"
   ]
  },
  {
   "cell_type": "code",
   "execution_count": 20,
   "id": "673fce4d",
   "metadata": {
    "scrolled": true
   },
   "outputs": [
    {
     "name": "stdout",
     "output_type": "stream",
     "text": [
      "The 5 profiles with the most number of followers : \n",
      "foodpandits\n",
      "food\n",
      "foodiesdelhite\n",
      "foodisnirvana\n",
      "food_and_makeup_lover\n"
     ]
    }
   ],
   "source": [
    "top_5_profiles = followers[:5]\n",
    "print(\"The 5 profiles with the most number of followers : \")\n",
    "for i in top_5_profiles:\n",
    "    print(i[0])"
   ]
  },
  {
   "cell_type": "markdown",
   "id": "ebc2aaf7",
   "metadata": {},
   "source": [
    "### Function to find the number of posts in past n days"
   ]
  },
  {
   "cell_type": "code",
   "execution_count": null,
   "id": "3331cd56",
   "metadata": {},
   "outputs": [],
   "source": [
    "def find_number_of_posts(driver): # Find the number of posts by the account that driver is currenly on\n",
    "    \n",
    "    try:\n",
    "        posts = wait.until(EC.get_all_elements_located((By.CLASS_NAME,\"_aa\")))\n",
    "    "
   ]
  },
  {
   "cell_type": "code",
   "execution_count": 23,
   "id": "ac16d275",
   "metadata": {},
   "outputs": [],
   "source": [
    "date_of_post = driver.find_element(By.CLASS_NAME,\"_aaqe\")"
   ]
  },
  {
   "cell_type": "code",
   "execution_count": 24,
   "id": "bce3b10f",
   "metadata": {},
   "outputs": [],
   "source": [
    "dt = date_of_post.get_attribute('datetime')"
   ]
  },
  {
   "cell_type": "code",
   "execution_count": 25,
   "id": "b96d2bd9",
   "metadata": {},
   "outputs": [
    {
     "data": {
      "text/plain": [
       "'2023-02-04T13:04:44.000Z'"
      ]
     },
     "execution_count": 25,
     "metadata": {},
     "output_type": "execute_result"
    }
   ],
   "source": [
    "dt"
   ]
  },
  {
   "cell_type": "code",
   "execution_count": 26,
   "id": "d6590b80",
   "metadata": {},
   "outputs": [
    {
     "data": {
      "text/plain": [
       "str"
      ]
     },
     "execution_count": 26,
     "metadata": {},
     "output_type": "execute_result"
    }
   ],
   "source": [
    "type(dt)"
   ]
  },
  {
   "cell_type": "code",
   "execution_count": 29,
   "id": "97aec397",
   "metadata": {},
   "outputs": [],
   "source": [
    "todays_date = date.today()"
   ]
  },
  {
   "cell_type": "code",
   "execution_count": 30,
   "id": "4ef7a9ad",
   "metadata": {},
   "outputs": [],
   "source": [
    "dt = dt[0:10]"
   ]
  },
  {
   "cell_type": "code",
   "execution_count": 31,
   "id": "f07c8f48",
   "metadata": {},
   "outputs": [
    {
     "data": {
      "text/plain": [
       "'2023-02-04'"
      ]
     },
     "execution_count": 31,
     "metadata": {},
     "output_type": "execute_result"
    }
   ],
   "source": [
    "dt"
   ]
  },
  {
   "cell_type": "code",
   "execution_count": 44,
   "id": "42ec5fd7",
   "metadata": {},
   "outputs": [],
   "source": [
    "post_date = datetime.strptime(dt,\"%Y-%m-%d\")\n",
    "post_date = datetime.date(post_date)"
   ]
  },
  {
   "cell_type": "code",
   "execution_count": 45,
   "id": "fe4b228e",
   "metadata": {},
   "outputs": [
    {
     "data": {
      "text/plain": [
       "datetime.date(2023, 2, 4)"
      ]
     },
     "execution_count": 45,
     "metadata": {},
     "output_type": "execute_result"
    }
   ],
   "source": [
    "post_date"
   ]
  },
  {
   "cell_type": "code",
   "execution_count": 46,
   "id": "e421bf4f",
   "metadata": {},
   "outputs": [],
   "source": [
    "diff = todays_date - post_date"
   ]
  },
  {
   "cell_type": "code",
   "execution_count": 48,
   "id": "e3faa1bf",
   "metadata": {},
   "outputs": [
    {
     "data": {
      "text/plain": [
       "4"
      ]
     },
     "execution_count": 48,
     "metadata": {},
     "output_type": "execute_result"
    }
   ],
   "source": [
    "diff.days"
   ]
  },
  {
   "cell_type": "code",
   "execution_count": 49,
   "id": "8ccb8400",
   "metadata": {},
   "outputs": [
    {
     "data": {
      "text/plain": [
       "0"
      ]
     },
     "execution_count": 49,
     "metadata": {},
     "output_type": "execute_result"
    }
   ],
   "source": [
    "diff.seconds"
   ]
  },
  {
   "cell_type": "code",
   "execution_count": 50,
   "id": "2607fa71",
   "metadata": {},
   "outputs": [
    {
     "data": {
      "text/plain": [
       "4"
      ]
     },
     "execution_count": 50,
     "metadata": {},
     "output_type": "execute_result"
    }
   ],
   "source": [
    "diff.days"
   ]
  },
  {
   "cell_type": "markdown",
   "id": "740ce4a7",
   "metadata": {},
   "source": [
    "### Function to find the number of posts in past n days"
   ]
  },
  {
   "cell_type": "code",
   "execution_count": 52,
   "id": "995ee315",
   "metadata": {},
   "outputs": [],
   "source": [
    "def posts_in_n_days(driver,n):\n",
    "    \n",
    "    date_of_post = date.today()\n",
    "    todays_date = date.today()\n",
    "    posts = []\n",
    "    \n",
    "    while True:\n",
    "        try:\n",
    "            time.sleep(5)\n",
    "            posts = wait.until(EC.presence_of_all_elements_located((By.CLASS_NAME,\"_aagw\")))\n",
    "            last_post = posts[-1]\n",
    "            time.sleep(5)\n",
    "            last_post.click()\n",
    "            try :\n",
    "                date_of_post = wait.until(EC.presence_of_element_located((By.CLASS_NAME,\"_aaqe\")))\n",
    "                date_of_post = date_of_post.get_attribute('datetime')\n",
    "                date_of_post = date_of_post[0:10]\n",
    "                date_of_post = datetime.strptime(date_of_post,\"%Y-%m-%d\")\n",
    "                date_of_post = datetime.date(date_of_post)\n",
    "                diff = (todays_date - date_of_post).days\n",
    "                close = driver.find_element(By.XPATH,\"//*[@aria-label='Close']\")\n",
    "                close.click()\n",
    "                if diff > n:\n",
    "                    break\n",
    "                else :\n",
    "                    print(\" scrolling \")\n",
    "                    driver.execute_script(\"window.scrollBy(0,1000)\")\n",
    "            except Exception as e:\n",
    "                logging.error(traceback.format_exc()) \n",
    "        except Exception as e:\n",
    "            logging.error(traceback.format_exc()) \n",
    "            \n",
    "    \n",
    "    \n",
    "    \n",
    "    print(\"*************done*****************\")\n",
    "    \n",
    "    try:\n",
    "        time.sleep(5)\n",
    "        posts = wait.until(EC.presence_of_all_elements_located((By.CLASS_NAME,\"_aagw\")))\n",
    "    except Exception as e:\n",
    "        logging.error(traceback.format_exc())\n",
    "    l = len(posts)\n",
    "    i = l - 1\n",
    "    \n",
    "    while i>=0 :\n",
    "        current_post = posts[i]\n",
    "        current_post.click()\n",
    "        try:\n",
    "            date_of_post = wait.until(EC.presence_of_element_located((By.CLASS_NAME,\"_aaqe\")))\n",
    "            date_of_post = date_of_post.get_attribute('datetime')\n",
    "            date_of_post = date_of_post[0:10]\n",
    "            date_of_post = datetime.strptime(date_of_post,\"%Y-%m-%d\")\n",
    "            date_of_post = datetime.date(date_of_post)\n",
    "            diff = (todays_date - date_of_post).days\n",
    "            if diff<=n :\n",
    "                close = driver.find_element(By.XPATH,\"//*[@aria-label='Close']\")\n",
    "                close.click()\n",
    "                break\n",
    "        except Exception as e:\n",
    "            logging.error(traceback.format_exc())\n",
    "        close = driver.find_element(By.XPATH,\"//*[@aria-label='Close']\")\n",
    "        close.click()\n",
    "        i = i - 1\n",
    "            \n",
    "    \n",
    "    return i + 1\n",
    "    \n",
    "    \n",
    "    \n",
    "    "
   ]
  },
  {
   "cell_type": "code",
   "execution_count": 53,
   "id": "3417c5c8",
   "metadata": {
    "scrolled": true
   },
   "outputs": [
    {
     "name": "stdout",
     "output_type": "stream",
     "text": [
      " i --->  0\n",
      "Handle found, going to profile page\n",
      "*************done*****************\n",
      " i --->  1\n",
      "Handle found, going to profile page\n",
      "*************done*****************\n",
      " i --->  2\n",
      "Handle found, going to profile page\n",
      "*************done*****************\n",
      " i --->  3\n",
      "Handle found, going to profile page\n",
      "*************done*****************\n",
      " i --->  4\n",
      "Handle found, going to profile page\n",
      "*************done*****************\n"
     ]
    }
   ],
   "source": [
    "for i in range(5):\n",
    "    print(\" i ---> \",i)\n",
    "    go_to_profile(top_5_profiles[i][0],driver)\n",
    "    x = posts_in_n_days(driver,3)\n",
    "    top_5_profiles[i] = (top_5_profiles[i][0],top_5_profiles[i][1],x)"
   ]
  },
  {
   "cell_type": "code",
   "execution_count": 84,
   "id": "77396faa",
   "metadata": {},
   "outputs": [
    {
     "name": "stdout",
     "output_type": "stream",
     "text": [
      "('foodpandits', 183000.0, 12)\n",
      "('food', 182000.0, 2)\n",
      "('foodiesdelhite', 23400.0, 0)\n",
      "('foodisnirvana', 20200.0, 0)\n",
      "('food_and_makeup_lover', 13600.0, 0)\n"
     ]
    }
   ],
   "source": [
    "for i in top_5_profiles :\n",
    "    print(i)"
   ]
  },
  {
   "cell_type": "code",
   "execution_count": 88,
   "id": "340eaf06",
   "metadata": {},
   "outputs": [],
   "source": [
    "profile_and_post = np.array(top_5_profiles)"
   ]
  },
  {
   "cell_type": "code",
   "execution_count": 89,
   "id": "c3dd39ed",
   "metadata": {},
   "outputs": [
    {
     "data": {
      "text/plain": [
       "(5, 3)"
      ]
     },
     "execution_count": 89,
     "metadata": {},
     "output_type": "execute_result"
    }
   ],
   "source": [
    "profile_and_post.shape"
   ]
  },
  {
   "cell_type": "code",
   "execution_count": 90,
   "id": "7f326f99",
   "metadata": {},
   "outputs": [],
   "source": [
    "x = profile_and_post[:,0]"
   ]
  },
  {
   "cell_type": "code",
   "execution_count": 91,
   "id": "f536ef45",
   "metadata": {},
   "outputs": [
    {
     "data": {
      "text/plain": [
       "array(['foodpandits', 'food', 'foodiesdelhite', 'foodisnirvana',\n",
       "       'food_and_makeup_lover'], dtype='<U32')"
      ]
     },
     "execution_count": 91,
     "metadata": {},
     "output_type": "execute_result"
    }
   ],
   "source": [
    "x"
   ]
  },
  {
   "cell_type": "code",
   "execution_count": 92,
   "id": "5f3daf25",
   "metadata": {},
   "outputs": [],
   "source": [
    "y = []\n",
    "for i in range(5):\n",
    "    y.append(top_5_profiles[i][2])"
   ]
  },
  {
   "cell_type": "code",
   "execution_count": 93,
   "id": "412a4001",
   "metadata": {},
   "outputs": [
    {
     "data": {
      "text/plain": [
       "[12, 2, 0, 0, 0]"
      ]
     },
     "execution_count": 93,
     "metadata": {},
     "output_type": "execute_result"
    }
   ],
   "source": [
    "y"
   ]
  },
  {
   "cell_type": "code",
   "execution_count": 94,
   "id": "6b7ab774",
   "metadata": {},
   "outputs": [],
   "source": [
    "y = np.array(y)"
   ]
  },
  {
   "cell_type": "code",
   "execution_count": 95,
   "id": "ca47b4e4",
   "metadata": {},
   "outputs": [
    {
     "data": {
      "text/plain": [
       "array([12,  2,  0,  0,  0])"
      ]
     },
     "execution_count": 95,
     "metadata": {},
     "output_type": "execute_result"
    }
   ],
   "source": [
    "y"
   ]
  },
  {
   "cell_type": "code",
   "execution_count": 96,
   "id": "7c13144b",
   "metadata": {},
   "outputs": [
    {
     "data": {
      "text/plain": [
       "array(['foodpandits', 'food', 'foodiesdelhite', 'foodisnirvana',\n",
       "       'food_and_makeup_lover'], dtype='<U32')"
      ]
     },
     "execution_count": 96,
     "metadata": {},
     "output_type": "execute_result"
    }
   ],
   "source": [
    "x"
   ]
  },
  {
   "cell_type": "code",
   "execution_count": 100,
   "id": "4fa3fe6d",
   "metadata": {},
   "outputs": [
    {
     "data": {
      "image/png": "[encoded data removed]",
      "text/plain": [
       "<Figure size 432x288 with 1 Axes>"
      ]
     },
     "metadata": {
      "needs_background": "light"
     },
     "output_type": "display_data"
    }
   ],
   "source": [
    "plt.bar(x,y)\n",
    "plt.xticks(rotation = 45)\n",
    "plt.title(\"profile vs posts in last 3 days\")\n",
    "plt.xlabel(\"handle\")\n",
    "plt.xlabel(\"posts in last 3 days\")\n",
    "plt.show()"
   ]
  },
  {
   "cell_type": "code",
   "execution_count": null,
   "id": "735f3d3a",
   "metadata": {},
   "outputs": [],
   "source": []
  }
 ],
 "metadata": {
  "kernelspec": {
   "display_name": "Python 3 (ipykernel)",
   "language": "python",
   "name": "python3"
  },
  "language_info": {
   "codemirror_mode": {
    "name": "ipython",
    "version": 3
   },
   "file_extension": ".py",
   "mimetype": "text/x-python",
   "name": "python",
   "nbconvert_exporter": "python",
   "pygments_lexer": "ipython3",
   "version": "3.9.7"
  }
 },
 "nbformat": 4,
 "nbformat_minor": 5
}
